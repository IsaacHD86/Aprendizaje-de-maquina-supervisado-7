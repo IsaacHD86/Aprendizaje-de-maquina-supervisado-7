{
 "cells": [
  {
   "cell_type": "markdown",
   "id": "c7a05ea4",
   "metadata": {},
   "source": [
    "# PRACTICA\n",
    "\n",
    "* Paso a paso:\n",
    "\n",
    "* Cargue la base de datos “drugs.csv” en Python e investigue cómo convertir las variables predictoras cualitativas de esta base a una escala numérica mediante la instrucción “preprocessing.LabelEncoder()”. Por ejemplo, si una variable tiene 3 posibles categorías, deberá cambiar sus resultados a 0, 1 o 2.\n",
    "* Use los diversos métodos de optimización para una Regresión Logística vistos en este módulo para encontrar un algoritmo óptimo de clasificación. Explique cuál sería su recomendación para este caso. Regresión Logística \n",
    "* ¿Qué tan eficaz es el algoritmo predictivo escogido? Explique a detalle comentando sobre los indicadores obtenidos mediante el reporte de clasificación correspondiente y la curva ROC."
   ]
  },
  {
   "cell_type": "code",
   "execution_count": 107,
   "id": "b1a0b2af",
   "metadata": {},
   "outputs": [],
   "source": [
    "import pandas as pd\n",
    "import numpy as np\n",
    "import matplotlib.pyplot as plt\n",
    "from sklearn.model_selection import train_test_split\n",
    "from sklearn import metrics\n",
    "from sklearn.metrics  import classification_report\n",
    "from sklearn.linear_model import LogisticRegression\n",
    "import warnings\n",
    "warnings.filterwarnings('ignore')"
   ]
  },
  {
   "cell_type": "code",
   "execution_count": 108,
   "id": "a87bac3f",
   "metadata": {},
   "outputs": [
    {
     "data": {
      "text/html": [
       "<div>\n",
       "<style scoped>\n",
       "    .dataframe tbody tr th:only-of-type {\n",
       "        vertical-align: middle;\n",
       "    }\n",
       "\n",
       "    .dataframe tbody tr th {\n",
       "        vertical-align: top;\n",
       "    }\n",
       "\n",
       "    .dataframe thead th {\n",
       "        text-align: right;\n",
       "    }\n",
       "</style>\n",
       "<table border=\"1\" class=\"dataframe\">\n",
       "  <thead>\n",
       "    <tr style=\"text-align: right;\">\n",
       "      <th></th>\n",
       "      <th>age</th>\n",
       "      <th>sex</th>\n",
       "      <th>bp</th>\n",
       "      <th>cholesterol</th>\n",
       "      <th>na_to_k</th>\n",
       "      <th>drug</th>\n",
       "    </tr>\n",
       "  </thead>\n",
       "  <tbody>\n",
       "    <tr>\n",
       "      <th>1</th>\n",
       "      <td>23</td>\n",
       "      <td>F</td>\n",
       "      <td>HIGH</td>\n",
       "      <td>HIGH</td>\n",
       "      <td>25.355</td>\n",
       "      <td>drugY</td>\n",
       "    </tr>\n",
       "    <tr>\n",
       "      <th>2</th>\n",
       "      <td>47</td>\n",
       "      <td>M</td>\n",
       "      <td>LOW</td>\n",
       "      <td>HIGH</td>\n",
       "      <td>13.093</td>\n",
       "      <td>drugC</td>\n",
       "    </tr>\n",
       "    <tr>\n",
       "      <th>3</th>\n",
       "      <td>47</td>\n",
       "      <td>M</td>\n",
       "      <td>LOW</td>\n",
       "      <td>HIGH</td>\n",
       "      <td>10.114</td>\n",
       "      <td>drugC</td>\n",
       "    </tr>\n",
       "    <tr>\n",
       "      <th>4</th>\n",
       "      <td>28</td>\n",
       "      <td>F</td>\n",
       "      <td>NORMAL</td>\n",
       "      <td>HIGH</td>\n",
       "      <td>7.798</td>\n",
       "      <td>drugX</td>\n",
       "    </tr>\n",
       "    <tr>\n",
       "      <th>5</th>\n",
       "      <td>61</td>\n",
       "      <td>F</td>\n",
       "      <td>LOW</td>\n",
       "      <td>HIGH</td>\n",
       "      <td>18.043</td>\n",
       "      <td>drugY</td>\n",
       "    </tr>\n",
       "  </tbody>\n",
       "</table>\n",
       "</div>"
      ],
      "text/plain": [
       "  age sex      bp cholesterol na_to_k   drug\n",
       "1  23   F    HIGH        HIGH  25.355  drugY\n",
       "2  47   M     LOW        HIGH  13.093  drugC\n",
       "3  47   M     LOW        HIGH  10.114  drugC\n",
       "4  28   F  NORMAL        HIGH   7.798  drugX\n",
       "5  61   F     LOW        HIGH  18.043  drugY"
      ]
     },
     "execution_count": 108,
     "metadata": {},
     "output_type": "execute_result"
    }
   ],
   "source": [
    "col_names = ['age','sex','bp','cholesterol','na_to_k','drug']\n",
    "df = pd.read_csv('C:/Users/Isaac/Desktop/IHD/EBAC DT/CIENCIA DE DATOS/M25 DS/drugs.csv', header = None, names= col_names)\n",
    "df = df.iloc[1:,:]\n",
    "df.head()"
   ]
  },
  {
   "cell_type": "code",
   "execution_count": 109,
   "id": "37097b35",
   "metadata": {},
   "outputs": [],
   "source": [
    "# dividimos las variables para 'X' y 'y'\n",
    "\n",
    "feature_cols = ['age','sex','bp','cholesterol','na_to_k']\n",
    "x = df[feature_cols].values\n",
    "y = df.drug"
   ]
  },
  {
   "cell_type": "code",
   "execution_count": 110,
   "id": "a70afe05",
   "metadata": {},
   "outputs": [],
   "source": [
    "# convertir variables predictivas cualitativas a numericas\n",
    "\n",
    "from sklearn import preprocessing\n",
    "\n",
    "cod_sex = preprocessing.LabelEncoder()\n",
    "cod_sex.fit(['M','F'])\n",
    "x[:,1] = cod_sex.transform(x[:,1])\n",
    "\n",
    "cod_bp = preprocessing.LabelEncoder()\n",
    "cod_bp.fit(['LOW','NORMAL','HIGH'])\n",
    "x[:,2] = cod_bp.transform(x[:,2])\n",
    "\n",
    "cod_chol = preprocessing.LabelEncoder()\n",
    "cod_chol.fit(['NORMAL','HIGH'])\n",
    "x[:,3] = cod_chol.transform(x[:,3])"
   ]
  },
  {
   "cell_type": "code",
   "execution_count": 114,
   "id": "c1fb01f6",
   "metadata": {},
   "outputs": [
    {
     "data": {
      "text/plain": [
       "1      1\n",
       "2      0\n",
       "3      0\n",
       "4      1\n",
       "5      1\n",
       "      ..\n",
       "196    0\n",
       "197    0\n",
       "198    1\n",
       "199    1\n",
       "200    1\n",
       "Name: drug, Length: 200, dtype: int64"
      ]
     },
     "execution_count": 114,
     "metadata": {},
     "output_type": "execute_result"
    }
   ],
   "source": [
    "# convertimos variable a predecir en numerica\n",
    "# farmacos A, B y C ---> origen Nacional, se le asigna el valor 0 \n",
    "# farmacos X y Y --> origen Extranjero, se le asigna el valor 1\n",
    "\n",
    "y = y.apply(lambda drug: 0 if drug in['drugA','drugB','drugC'] else 1)\n",
    "y"
   ]
  },
  {
   "cell_type": "code",
   "execution_count": 116,
   "id": "d2358372",
   "metadata": {},
   "outputs": [],
   "source": [
    "# creación de grupos de entrenamiento y prueba\n",
    "\n",
    "x_train, x_test, y_train, y_test = train_test_split(x, y, test_size = 0.2, random_state = 1)"
   ]
  },
  {
   "cell_type": "markdown",
   "id": "ac2556da",
   "metadata": {},
   "source": [
    "* RL con solucionador (solver) sag"
   ]
  },
  {
   "cell_type": "code",
   "execution_count": 117,
   "id": "3f0d9f0d",
   "metadata": {},
   "outputs": [
    {
     "name": "stdout",
     "output_type": "stream",
     "text": [
      "Intercepto (Beta0) [-0.31337108]\n",
      "Pesos de cada variable (Beta1, Beta2,...Beta7) [[-0.03728113 -0.16156719  1.02860081  0.19379023  0.16044004]]\n",
      "--------------------------------------------------------------\n",
      "Precisión Global 0.9\n",
      "--------------------------------------------------------------\n",
      "              precision    recall  f1-score   support\n",
      "\n",
      "           0       1.00      0.60      0.75        10\n",
      "           1       0.88      1.00      0.94        30\n",
      "\n",
      "    accuracy                           0.90        40\n",
      "   macro avg       0.94      0.80      0.84        40\n",
      "weighted avg       0.91      0.90      0.89        40\n",
      "\n"
     ]
    }
   ],
   "source": [
    "# inicializamos el modelo\n",
    "model = LogisticRegression(solver = 'sag')\n",
    "\n",
    "# entrenamos el modelo\n",
    "\n",
    "clf = model.fit(x_train, y_train)\n",
    "\n",
    "# hacemos predicciones\n",
    "\n",
    "y_pred = model.predict(x_test)\n",
    "\n",
    "print('Intercepto (Beta0)', clf.intercept_)\n",
    "print('Pesos de cada variable (Beta1, Beta2,...Beta7)', clf.coef_)\n",
    "print('--------------------------------------------------------------')\n",
    "\n",
    "# obtenemos el score\n",
    "\n",
    "score = model.score(x_test, y_test)\n",
    "print('Precisión Global', score)\n",
    "print('--------------------------------------------------------------')\n",
    "\n",
    "# obtenemos el reporte de clasificación\n",
    "\n",
    "print(classification_report(y_test, y_pred))"
   ]
  },
  {
   "cell_type": "markdown",
   "id": "255deaaa",
   "metadata": {},
   "source": [
    "* RL con solucionador (solver) newton-cg"
   ]
  },
  {
   "cell_type": "code",
   "execution_count": 118,
   "id": "3eb9544c",
   "metadata": {},
   "outputs": [
    {
     "name": "stdout",
     "output_type": "stream",
     "text": [
      "Intercepto (Beta0) [-11.15271676]\n",
      "Pesos de cada variable (Beta1, Beta2,...Beta7) [[0.00660915 0.14831253 3.33613433 2.07248479 0.6378866 ]]\n",
      "--------------------------------------------------------------\n",
      "Precisión Global 0.975\n",
      "--------------------------------------------------------------\n",
      "              precision    recall  f1-score   support\n",
      "\n",
      "           0       1.00      0.90      0.95        10\n",
      "           1       0.97      1.00      0.98        30\n",
      "\n",
      "    accuracy                           0.97        40\n",
      "   macro avg       0.98      0.95      0.97        40\n",
      "weighted avg       0.98      0.97      0.97        40\n",
      "\n"
     ]
    }
   ],
   "source": [
    "# inicializamos el modelo\n",
    "model = LogisticRegression(solver = 'newton-cg')\n",
    "\n",
    "# entrenamos el modelo\n",
    "\n",
    "clf = model.fit(x_train, y_train)\n",
    "\n",
    "# hacemos predicciones\n",
    "\n",
    "y_pred = model.predict(x_test)\n",
    "\n",
    "print('Intercepto (Beta0)', clf.intercept_)\n",
    "print('Pesos de cada variable (Beta1, Beta2,...Beta7)', clf.coef_)\n",
    "print('--------------------------------------------------------------')\n",
    "\n",
    "# obtenemos el score\n",
    "\n",
    "score = model.score(x_test, y_test)\n",
    "print('Precisión Global', score)\n",
    "print('--------------------------------------------------------------')\n",
    "\n",
    "# obtenemos el reporte de clasificación\n",
    "\n",
    "print(classification_report(y_test, y_pred))"
   ]
  },
  {
   "cell_type": "markdown",
   "id": "8ab61681",
   "metadata": {},
   "source": [
    "* RL con solucionador (solver) liblinear"
   ]
  },
  {
   "cell_type": "code",
   "execution_count": 119,
   "id": "b11df3a2",
   "metadata": {},
   "outputs": [
    {
     "name": "stdout",
     "output_type": "stream",
     "text": [
      "Intercepto (Beta0) [-3.34051275]\n",
      "Pesos de cada variable (Beta1, Beta2,...Beta7) [[-0.02834219 -0.26053256  2.06969328  1.09570978  0.27510142]]\n",
      "--------------------------------------------------------------\n",
      "Precisión Global 0.975\n",
      "--------------------------------------------------------------\n",
      "              precision    recall  f1-score   support\n",
      "\n",
      "           0       1.00      0.90      0.95        10\n",
      "           1       0.97      1.00      0.98        30\n",
      "\n",
      "    accuracy                           0.97        40\n",
      "   macro avg       0.98      0.95      0.97        40\n",
      "weighted avg       0.98      0.97      0.97        40\n",
      "\n"
     ]
    }
   ],
   "source": [
    "# inicializamos el modelo\n",
    "model = LogisticRegression(solver = 'liblinear')\n",
    "\n",
    "# entrenamos el modelo\n",
    "\n",
    "clf = model.fit(x_train, y_train)\n",
    "\n",
    "# hacemos predicciones\n",
    "\n",
    "y_pred = model.predict(x_test)\n",
    "\n",
    "print('Intercepto (Beta0)', clf.intercept_)\n",
    "print('Pesos de cada variable (Beta1, Beta2,...Beta7)', clf.coef_)\n",
    "print('--------------------------------------------------------------')\n",
    "\n",
    "# obtenemos el score\n",
    "\n",
    "score = model.score(x_test, y_test)\n",
    "print('Precisión Global', score)\n",
    "print('--------------------------------------------------------------')\n",
    "\n",
    "# obtenemos el reporte de clasificación\n",
    "\n",
    "print(classification_report(y_test, y_pred))"
   ]
  },
  {
   "cell_type": "markdown",
   "id": "1f116091",
   "metadata": {},
   "source": [
    "* RL con solucionador (solver) saga"
   ]
  },
  {
   "cell_type": "code",
   "execution_count": 120,
   "id": "fa9be301",
   "metadata": {},
   "outputs": [
    {
     "name": "stdout",
     "output_type": "stream",
     "text": [
      "Intercepto (Beta0) [-0.14567824]\n",
      "Pesos de cada variable (Beta1, Beta2,...Beta7) [[-0.03372104 -0.09445994  0.6616053   0.10472575  0.15447383]]\n",
      "--------------------------------------------------------------\n",
      "Precisión Global 0.875\n",
      "--------------------------------------------------------------\n",
      "              precision    recall  f1-score   support\n",
      "\n",
      "           0       0.86      0.60      0.71        10\n",
      "           1       0.88      0.97      0.92        30\n",
      "\n",
      "    accuracy                           0.88        40\n",
      "   macro avg       0.87      0.78      0.81        40\n",
      "weighted avg       0.87      0.88      0.87        40\n",
      "\n"
     ]
    }
   ],
   "source": [
    "# inicializamos el modelo\n",
    "model = LogisticRegression(solver = 'saga')\n",
    "\n",
    "# entrenamos el modelo\n",
    "\n",
    "clf = model.fit(x_train, y_train)\n",
    "\n",
    "# hacemos predicciones\n",
    "\n",
    "y_pred = model.predict(x_test)\n",
    "\n",
    "print('Intercepto (Beta0)', clf.intercept_)\n",
    "print('Pesos de cada variable (Beta1, Beta2,...Beta7)', clf.coef_)\n",
    "print('--------------------------------------------------------------')\n",
    "\n",
    "# obtenemos el score\n",
    "\n",
    "score = model.score(x_test, y_test)\n",
    "print('Precisión Global', score)\n",
    "print('--------------------------------------------------------------')\n",
    "\n",
    "# obtenemos el reporte de clasificación\n",
    "\n",
    "print(classification_report(y_test, y_pred))"
   ]
  },
  {
   "cell_type": "markdown",
   "id": "9e004324",
   "metadata": {},
   "source": [
    "* RL con solucionador (solver) lbfgs"
   ]
  },
  {
   "cell_type": "code",
   "execution_count": 121,
   "id": "4fd83b96",
   "metadata": {},
   "outputs": [
    {
     "name": "stdout",
     "output_type": "stream",
     "text": [
      "Intercepto (Beta0) [-11.16791614]\n",
      "Pesos de cada variable (Beta1, Beta2,...Beta7) [[0.00667297 0.14894912 3.33863745 2.07461152 0.63862512]]\n",
      "--------------------------------------------------------------\n",
      "Precisión Global 0.975\n",
      "--------------------------------------------------------------\n",
      "              precision    recall  f1-score   support\n",
      "\n",
      "           0       1.00      0.90      0.95        10\n",
      "           1       0.97      1.00      0.98        30\n",
      "\n",
      "    accuracy                           0.97        40\n",
      "   macro avg       0.98      0.95      0.97        40\n",
      "weighted avg       0.98      0.97      0.97        40\n",
      "\n"
     ]
    }
   ],
   "source": [
    "# inicializamos el modelo\n",
    "model = LogisticRegression(solver = 'lbfgs')\n",
    "\n",
    "# entrenamos el modelo\n",
    "\n",
    "clf = model.fit(x_train, y_train)\n",
    "\n",
    "# hacemos predicciones\n",
    "\n",
    "y_pred = model.predict(x_test)\n",
    "\n",
    "print('Intercepto (Beta0)', clf.intercept_)\n",
    "print('Pesos de cada variable (Beta1, Beta2,...Beta7)', clf.coef_)\n",
    "print('--------------------------------------------------------------')\n",
    "\n",
    "# obtenemos el score\n",
    "\n",
    "score = model.score(x_test, y_test)\n",
    "print('Precisión Global', score)\n",
    "print('--------------------------------------------------------------')\n",
    "\n",
    "# obtenemos el reporte de clasificación\n",
    "\n",
    "print(classification_report(y_test, y_pred))"
   ]
  },
  {
   "cell_type": "markdown",
   "id": "6814e876",
   "metadata": {},
   "source": [
    "Los solucionadores que dieron mejores predicciones fueron:\n",
    "\n",
    "    * newton-cg\n",
    "    * liblinear\n",
    "    * lbfgs\n"
   ]
  },
  {
   "cell_type": "markdown",
   "id": "e70c962b",
   "metadata": {},
   "source": [
    "# Prediccion de probabilidades para los 8 primeros casos del DF \n",
    "* Usamos el modelo newton-cg "
   ]
  },
  {
   "cell_type": "code",
   "execution_count": 122,
   "id": "de6deb7f",
   "metadata": {},
   "outputs": [
    {
     "name": "stdout",
     "output_type": "stream",
     "text": [
      "Intercepto (Beta0) [-11.15271676]\n",
      "Pesos de cada variable (Beta1, Beta2,...Beta7) [[0.00660915 0.14831253 3.33613433 2.07248479 0.6378866 ]]\n",
      "--------------------------------------------------------------\n",
      "Precisión Global 0.975\n",
      "--------------------------------------------------------------\n",
      "              precision    recall  f1-score   support\n",
      "\n",
      "           0       1.00      0.90      0.95        10\n",
      "           1       0.97      1.00      0.98        30\n",
      "\n",
      "    accuracy                           0.97        40\n",
      "   macro avg       0.98      0.95      0.97        40\n",
      "weighted avg       0.98      0.97      0.97        40\n",
      "\n"
     ]
    }
   ],
   "source": [
    "# inicializamos el modelo\n",
    "model = LogisticRegression(solver = 'newton-cg')\n",
    "\n",
    "# entrenamos el modelo\n",
    "\n",
    "clf = model.fit(x_train, y_train)\n",
    "\n",
    "# hacemos predicciones\n",
    "\n",
    "y_pred = model.predict(x_test)\n",
    "\n",
    "print('Intercepto (Beta0)', clf.intercept_)\n",
    "print('Pesos de cada variable (Beta1, Beta2,...Beta7)', clf.coef_)\n",
    "print('--------------------------------------------------------------')\n",
    "\n",
    "# obtenemos el score\n",
    "\n",
    "score = model.score(x_test, y_test)\n",
    "print('Precisión Global', score)\n",
    "print('--------------------------------------------------------------')\n",
    "\n",
    "# obtenemos el reporte de clasificación\n",
    "\n",
    "print(classification_report(y_test, y_pred))"
   ]
  },
  {
   "cell_type": "code",
   "execution_count": 123,
   "id": "287313f5",
   "metadata": {},
   "outputs": [
    {
     "data": {
      "text/plain": [
       "array([0.98978684, 0.99974214, 0.99352558, 0.67743552, 0.99999691])"
      ]
     },
     "execution_count": 123,
     "metadata": {},
     "output_type": "execute_result"
    }
   ],
   "source": [
    "y_pred_probs = clf.predict_proba(x_test)[:,1]\n",
    "y_pred_probs[0:5]"
   ]
  },
  {
   "cell_type": "code",
   "execution_count": 124,
   "id": "bb2538fb",
   "metadata": {},
   "outputs": [
    {
     "data": {
      "text/plain": [
       "array([1, 1, 1, 0, 1], dtype=int64)"
      ]
     },
     "execution_count": 124,
     "metadata": {},
     "output_type": "execute_result"
    }
   ],
   "source": [
    "y_test = y_test.to_numpy()\n",
    "y_test[0:5]"
   ]
  },
  {
   "cell_type": "code",
   "execution_count": 126,
   "id": "da87985d",
   "metadata": {},
   "outputs": [
    {
     "data": {
      "text/plain": [
       "array([1., 1., 1., 1., 1.])"
      ]
     },
     "execution_count": 126,
     "metadata": {},
     "output_type": "execute_result"
    }
   ],
   "source": [
    "# redondear las probabilidades a cero decimales para que y < 0.5 = 0, y , y > 0.5 = 1\n",
    "\n",
    "y_pred_probs = np.round(y_pred_probs, 0)\n",
    "y_pred_probs[0:5]"
   ]
  },
  {
   "cell_type": "code",
   "execution_count": 127,
   "id": "9fd367b6",
   "metadata": {},
   "outputs": [],
   "source": [
    "# graficación de la curva ROC y calculo del area bajo la curva\n",
    "\n",
    "from sklearn.metrics import roc_curve\n",
    "from sklearn.metrics import roc_auc_score\n",
    "\n",
    "fpr, tpr, thresholds = roc_curve(y_test, y_pred_probs)\n",
    "auc = roc_auc_score(y_test, y_pred_probs)"
   ]
  },
  {
   "cell_type": "code",
   "execution_count": 129,
   "id": "a2f551fb",
   "metadata": {},
   "outputs": [
    {
     "data": {
      "text/plain": [
       "Text(0.5, 1.0, 'Curva ROC para regresión Logisticas')"
      ]
     },
     "execution_count": 129,
     "metadata": {},
     "output_type": "execute_result"
    },
    {
     "data": {
      "image/png": "[encoded data removed]",
      "text/plain": [
       "<Figure size 640x480 with 1 Axes>"
      ]
     },
     "metadata": {},
     "output_type": "display_data"
    }
   ],
   "source": [
    "# grafica con escala de 0 a 1 para 'x' y 'y'\n",
    "\n",
    "plt.plot([0,1],[0,1], 'k--')\n",
    "plt.plot(fpr, tpr, marker = '.', label = 'Curva ROC (area = %0.2f)' %auc)\n",
    "plt.xlabel('Tasa de flasos positivos')\n",
    "plt.ylabel('Tasa de verdaderos positivos')\n",
    "plt.legend(loc = 'lower right')\n",
    "plt.title('Curva ROC para regresión Logisticas')"
   ]
  },
  {
   "cell_type": "markdown",
   "id": "65bd065c",
   "metadata": {},
   "source": [
    "## El modelo obtuvo buenas predicciones su precisión Global fue de 97% y el area bajo la curva fue de 95% "
   ]
  },
  {
   "cell_type": "code",
   "execution_count": null,
   "id": "b79c7b09",
   "metadata": {},
   "outputs": [],
   "source": []
  }
 ],
 "metadata": {
  "kernelspec": {
   "display_name": "Python 3 (ipykernel)",
   "language": "python",
   "name": "python3"
  },
  "language_info": {
   "codemirror_mode": {
    "name": "ipython",
    "version": 3
   },
   "file_extension": ".py",
   "mimetype": "text/x-python",
   "name": "python",
   "nbconvert_exporter": "python",
   "pygments_lexer": "ipython3",
   "version": "3.11.5"
  }
 },
 "nbformat": 4,
 "nbformat_minor": 5
}
